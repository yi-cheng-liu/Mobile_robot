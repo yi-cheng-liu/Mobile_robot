{
 "cells": [
  {
   "cell_type": "markdown",
   "metadata": {},
   "source": [
    "# NA 568 Mobile Robotics: Methods & Algorithms Winter 2021 -- Homework 2 -- Kalman Filtering (Task 5 in Julia)\n",
    "\n",
    "University of Michigan\\\n",
    "January 25, 2021"
   ]
  },
  {
   "cell_type": "markdown",
   "metadata": {},
   "source": [
    "## Task 5 C. (25 pts) \n",
    "You are responsible for purchasing a sensor that can measure the range (distance) to an object.\n",
    "Sensor I ($\\$$100) and II ($\\$$500) are both used to measure the range to an object. Suppose the measurements\n",
    "are noisy values of the range, x, such that z $\\sim$ $N$ ($μ_z$ , $σ_z^2$ ) with variances of 1 (I) and 0.64 (II). The\n",
    "measurements obtained from these sensors can be seen in Table I and II. Parameterize the prior of x\n",
    "with $μ$ = 0 and $σ^2$ = 1000. Using the derivations from part B, write a function that takes data\n",
    "as input and solves the inference recursively.\n",
    "\n",
    "C.1 Use the sensor data and the Matlab function to infer the mean and variance of the normally dis-\n",
    "tributed random variable $x$ conditioned only on $z_1$.\n",
    "\n",
    "C.2 Use the sensor data and the Matlab function to infer the mean and variance of the normally dis-\n",
    "tributed random variable $x$ conditioned only on $z_2$.\n",
    "\n",
    "C.3 Why is it that $x$ is more precise when conditioned on $z_1$ even though sensor II is more accurate?\n",
    "which sensor do you recommend to be purchased?\n",
    "\n",
    "Table 1: Sensor I Data\n",
    "    \n",
    "| N   | $Z_1$     |\n",
    "| --- | --------- |\n",
    "| 1   | 10.6715   |\n",
    "| 2   | 8.7925    |\n",
    "| 3   | 10.7172   |\n",
    "| 4   | 11.6302   |\n",
    "| 5   | 10.4889   |\n",
    "| 6   | 11.0347   |\n",
    "| 7   | 10.7269   |\n",
    "| 8   | 9.6966    |\n",
    "| 9   | 10.2939   |\n",
    "| 10  | 9.2127    |\n",
    "\n",
    "Table 2: Sensor II Data\n",
    "    \n",
    "| N   | $Z_2$     |\n",
    "| --- | --------- |\n",
    "| 1   | 10.7107   |\n",
    "| 2   | 9.0823    |\n",
    "| 3   | 9.1449    |\n",
    "| 4   | 9.3524    |\n",
    "| 5   | 10.2602   |"
   ]
  },
  {
   "cell_type": "code",
   "execution_count": null,
   "metadata": {},
   "outputs": [],
   "source": [
    "using Printf\n",
    "\n",
    "# data from sensor I\n",
    "z1 = [10.6715;8.7925;10.7172;11.6302;10.4889;11.0347;10.7269;9.6966;10.2939;9.2127];\n",
    "\n",
    "# data from sensor II\n",
    "z2 = [10.7107;9.0823;9.1449;9.3524;10.2602];\n",
    "\n",
    "# noise variance of sensor I\n",
    "sigma_z1 = 1;\n",
    "# noise variance of sensor II\n",
    "sigma_z2 = 0.64;\n",
    "# non−informative prior\n",
    "mu_1 = 0; sigma_1 = 1000; \n",
    "mu_2 = 0; sigma_2 = 1000;\n",
    "\n",
    "# MAP Bayesian inference using Gaussian prior and likelihood\n",
    "function Inference(mu,sigma,sigma_z,z)\n",
    "    \n",
    "end\n",
    "\n",
    "# recursive inference with data from sensor I\n",
    "\n",
    "# recursive inference with data from sensor II\n",
    "\n",
    "println(\"sensor   mean  variance  precision(1/variance)\");\n",
    "@printf(\"  I%11.3f%8.3f%10.3f\\n\",mu_1,sigma_1,1/sigma_1);\n",
    "@printf(\" II%11.3f%8.3f%10.3f\\n\",mu_2,sigma_2,1/sigma_2);"
   ]
  },
  {
   "cell_type": "markdown",
   "metadata": {},
   "source": [
    "## Task 5 D.\n",
    "Use a Kalman filter to solve C.1 and C.2. Compare your results with the MAP\n",
    "estimator. What is the conclusion now and why?"
   ]
  },
  {
   "cell_type": "code",
   "execution_count": null,
   "metadata": {},
   "outputs": [],
   "source": [
    "# reset non−informative prior\n",
    "mu_1 = 0; sigma_1 = 1000; \n",
    "mu_2 = 0; sigma_2 = 1000;\n",
    "\n",
    "# Kalman Filter measurement update\n",
    "function KF_update(mu,sigma,sigma_R,z)\n",
    "    \n",
    "end\n",
    "\n",
    "# Kalman Filter inference with data from sensor I\n",
    "\n",
    "# Kalman Filter inference with data from sensor II\n",
    "\n",
    "println(\"sensor   mean  variance  precision(1/variance)\");\n",
    "@printf(\"  I%11.3f%8.3f%10.3f\\n\",mu_1,sigma_1,1/sigma_1);\n",
    "@printf(\" II%11.3f%8.3f%10.3f\\n\",mu_2,sigma_2,1/sigma_2);\n"
   ]
  }
 ],
 "metadata": {
  "kernelspec": {
   "display_name": "Julia 1.5.3",
   "language": "julia",
   "name": "julia-1.5"
  },
  "language_info": {
   "file_extension": ".jl",
   "mimetype": "application/julia",
   "name": "julia",
   "version": "1.5.3"
  }
 },
 "nbformat": 4,
 "nbformat_minor": 4
}
